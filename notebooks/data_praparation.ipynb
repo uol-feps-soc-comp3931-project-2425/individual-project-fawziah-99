{
 "cells": [
  {
   "cell_type": "markdown",
   "id": "90f477eb",
   "metadata": {},
   "source": [
    "# Dataset Preparation\n",
    "This notebook handles the **organization of the dataset** before feature extraction and model training.\n",
    "\n",
    "## What This Notebook Does:\n",
    "- Loads metadata (`meta.csv`) to get labels.\n",
    "- Checks for missing data.\n",
    "- Moves audio files in the dataset into **two separate folders**:\n",
    "  - `data/processed_data/real/` (for real audios)\n",
    "  - `data/processed_data/fake/` (for fake audios)\n",
    "- Uses a progress bar (`tqdm`) for better tracking."
   ]
  },
  {
   "cell_type": "code",
   "execution_count": 4,
   "id": "de65eeae",
   "metadata": {},
   "outputs": [],
   "source": [
    "# Importing required libraries\n",
    "import os\n",
    "import pandas as pd\n",
    "import shutil\n",
    "from tqdm import tqdm"
   ]
  },
  {
   "cell_type": "code",
   "execution_count": 5,
   "id": "1669ad15-d7ea-4c96-aac0-0642b9f04331",
   "metadata": {},
   "outputs": [
    {
     "data": {
      "text/html": [
       "<div>\n",
       "<style scoped>\n",
       "    .dataframe tbody tr th:only-of-type {\n",
       "        vertical-align: middle;\n",
       "    }\n",
       "\n",
       "    .dataframe tbody tr th {\n",
       "        vertical-align: top;\n",
       "    }\n",
       "\n",
       "    .dataframe thead th {\n",
       "        text-align: right;\n",
       "    }\n",
       "</style>\n",
       "<table border=\"1\" class=\"dataframe\">\n",
       "  <thead>\n",
       "    <tr style=\"text-align: right;\">\n",
       "      <th></th>\n",
       "      <th>file</th>\n",
       "      <th>speaker</th>\n",
       "      <th>label</th>\n",
       "    </tr>\n",
       "  </thead>\n",
       "  <tbody>\n",
       "    <tr>\n",
       "      <th>0</th>\n",
       "      <td>0.wav</td>\n",
       "      <td>Alec Guinness</td>\n",
       "      <td>spoof</td>\n",
       "    </tr>\n",
       "    <tr>\n",
       "      <th>1</th>\n",
       "      <td>1.wav</td>\n",
       "      <td>Alec Guinness</td>\n",
       "      <td>spoof</td>\n",
       "    </tr>\n",
       "    <tr>\n",
       "      <th>2</th>\n",
       "      <td>2.wav</td>\n",
       "      <td>Barack Obama</td>\n",
       "      <td>spoof</td>\n",
       "    </tr>\n",
       "    <tr>\n",
       "      <th>3</th>\n",
       "      <td>3.wav</td>\n",
       "      <td>Alec Guinness</td>\n",
       "      <td>spoof</td>\n",
       "    </tr>\n",
       "    <tr>\n",
       "      <th>4</th>\n",
       "      <td>4.wav</td>\n",
       "      <td>Christopher Hitchens</td>\n",
       "      <td>bona-fide</td>\n",
       "    </tr>\n",
       "  </tbody>\n",
       "</table>\n",
       "</div>"
      ],
      "text/plain": [
       "    file               speaker      label\n",
       "0  0.wav         Alec Guinness      spoof\n",
       "1  1.wav         Alec Guinness      spoof\n",
       "2  2.wav          Barack Obama      spoof\n",
       "3  3.wav         Alec Guinness      spoof\n",
       "4  4.wav  Christopher Hitchens  bona-fide"
      ]
     },
     "execution_count": 5,
     "metadata": {},
     "output_type": "execute_result"
    }
   ],
   "source": [
    "# Load the metadata CSV file\n",
    "metadata_path = './data/release_in_the_wild/meta.csv'\n",
    "metadata = pd.read_csv(metadata_path)\n",
    "\n",
    "# Display the first few rows of the metadata\n",
    "metadata.head()"
   ]
  },
  {
   "cell_type": "code",
   "execution_count": 6,
   "id": "e2e8deb6",
   "metadata": {},
   "outputs": [
    {
     "name": "stdout",
     "output_type": "stream",
     "text": [
      "No missing values found\n"
     ]
    }
   ],
   "source": [
    "# Check for missing data in meta.csv\n",
    "missing_data = metadata.isnull().sum()\n",
    "\n",
    "if missing_data.any():\n",
    "    print(\"Missing values found:\")\n",
    "    print(missing_data)\n",
    "else:\n",
    "    print(\"No missing values found\")"
   ]
  },
  {
   "cell_type": "code",
   "execution_count": 7,
   "id": "0a576ace",
   "metadata": {},
   "outputs": [],
   "source": [
    "# Create folders for real and fake audio files\n",
    "os.makedirs('./data/processed_data/real', exist_ok=True)\n",
    "os.makedirs('./data/processed_data/fake', exist_ok=True)"
   ]
  },
  {
   "cell_type": "code",
   "execution_count": 8,
   "id": "99b9d913",
   "metadata": {},
   "outputs": [
    {
     "name": "stderr",
     "output_type": "stream",
     "text": [
      "Processing: 100%|██████████| 31779/31779 [01:20<00:00, 394.09it/s]\n"
     ]
    }
   ],
   "source": [
    "# Path to the audio files\n",
    "audio_path = './data/release_in_the_wild'\n",
    "\n",
    "# Iterate over metadata\n",
    "for _, row in tqdm(metadata.iterrows(), total=len(metadata), desc=\"Processing\"):\n",
    "    src_path = os.path.join(audio_path, row['file'])\n",
    "\n",
    "    # Check if the file exists before moving it\n",
    "    if not os.path.exists(src_path):\n",
    "        print(f\"File not found: {src_path}. Skipping...\")\n",
    "        continue\n",
    "\n",
    "    # Determine the destination folder based on the label (real or fake)\n",
    "    dest_folder = './data/processed_data/fake' if row['label'] == 'spoof' else './data/processed_data/real'\n",
    "    dest_path = os.path.join(dest_folder, row['file'])\n",
    "\n",
    "    try:\n",
    "        # Copy the file to the appropriate destination folder\n",
    "        shutil.copy(src_path, dest_path) \n",
    "    except Exception as e:\n",
    "        print(f\"Error moving file {row['file']}: {e}\")"
   ]
  }
 ],
 "metadata": {
  "kernelspec": {
   "display_name": "Python 3",
   "language": "python",
   "name": "python3"
  },
  "language_info": {
   "codemirror_mode": {
    "name": "ipython",
    "version": 3
   },
   "file_extension": ".py",
   "mimetype": "text/x-python",
   "name": "python",
   "nbconvert_exporter": "python",
   "pygments_lexer": "ipython3",
   "version": "3.10.10"
  }
 },
 "nbformat": 4,
 "nbformat_minor": 5
}
